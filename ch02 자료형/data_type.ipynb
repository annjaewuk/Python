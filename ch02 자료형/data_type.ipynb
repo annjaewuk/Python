{
 "cells": [
  {
   "cell_type": "markdown",
   "metadata": {},
   "source": [
    "### 자료형\n",
    "---"
   ]
  },
  {
   "cell_type": "code",
   "execution_count": 3,
   "metadata": {},
   "outputs": [
    {
     "data": {
      "text/plain": [
       "\"  she's gone \""
      ]
     },
     "execution_count": 3,
     "metadata": {},
     "output_type": "execute_result"
    }
   ],
   "source": [
    "\"헬로\"\n",
    "'안녕'\n",
    "\n",
    "'''헬로\n",
    "안녕'''\n",
    "\n",
    "\"\"\"  she's gone \"\"\""
   ]
  },
  {
   "cell_type": "code",
   "execution_count": 8,
   "metadata": {},
   "outputs": [
    {
     "name": "stdout",
     "output_type": "stream",
     "text": [
      "A\n",
      "A\n",
      "B\n",
      "a\n",
      "a\n",
      "65\n",
      "54620\n",
      "핝\n"
     ]
    }
   ],
   "source": [
    "#인코딩과 디코딩\n",
    "\n",
    "'A' \"가\"\n",
    "\n",
    "print('A')\n",
    "print(chr(65))\n",
    "print(chr(66))\n",
    "print(chr(0b1100001))\n",
    "print(chr(97))\n",
    "\n",
    "print(ord('A'))\n",
    "print(ord('한'))\n",
    "print(chr(54621)) \n",
    "\n"
   ]
  },
  {
   "cell_type": "code",
   "execution_count": 19,
   "metadata": {},
   "outputs": [
    {
     "name": "stdout",
     "output_type": "stream",
     "text": [
      "⚔\n"
     ]
    }
   ],
   "source": [
    "\n",
    "def chat(sw):\n",
    "    if sw == 'sword':\n",
    "        print(\"⚔\")\n",
    "\n",
    "chat('sword')"
   ]
  },
  {
   "cell_type": "code",
   "execution_count": 15,
   "metadata": {},
   "outputs": [
    {
     "name": "stdout",
     "output_type": "stream",
     "text": [
      "C:\\Users\\bitcamp\\Desktop\\Python\n",
      "C:\\Users\\bitcamp\\Desktop\\Python\n",
      "이름\t나이\t주소\n"
     ]
    }
   ],
   "source": [
    "#역슬래시 붙여서 이스케이프 방지\n",
    "path = \"C:\\\\Users\\\\bitcamp\\Desktop\\Python\"\n",
    "path2 =r\"C:\\Users\\bitcamp\\Desktop\\Python\"\n",
    "print(path)\n",
    "print(path2)\n",
    "print(\"이름\\t나이\\t주소\")"
   ]
  },
  {
   "cell_type": "code",
   "execution_count": 17,
   "metadata": {},
   "outputs": [
    {
     "name": "stdout",
     "output_type": "stream",
     "text": [
      "hallo\n",
      "hallo\n",
      "hallo\n",
      "hallo\n",
      "hallo\n",
      "\n",
      "Python3.1.0\n"
     ]
    },
    {
     "data": {
      "text/plain": [
       "str"
      ]
     },
     "execution_count": 17,
     "metadata": {},
     "output_type": "execute_result"
    }
   ],
   "source": [
    "print(\"hallo\\n\" * 5)\n",
    "\n",
    "head = \"Python\"\n",
    "version = \"3.1.0\"\n",
    "print(head + version)\n",
    "type(\" \")"
   ]
  },
  {
   "cell_type": "code",
   "execution_count": 30,
   "metadata": {},
   "outputs": [
    {
     "name": "stdout",
     "output_type": "stream",
     "text": [
      "0b1001\n",
      "4\n"
     ]
    }
   ],
   "source": [
    "n = 9\n",
    "#print(type(n))\n",
    "print(bin(n))\n",
    "print(n.bit_length())\n",
    "#클래스인증거"
   ]
  },
  {
   "cell_type": "code",
   "execution_count": 42,
   "metadata": {},
   "outputs": [
    {
     "name": "stdout",
     "output_type": "stream",
     "text": [
      "남자\n",
      "['971113', '1013721']\n",
      "971113\n",
      "1013721\n",
      "1\n",
      "Male\n"
     ]
    }
   ],
   "source": [
    "# \"Python\"\n",
    "# array = 'P'+'y'+'t'+'h'+'o'+'n'\n",
    "# print(array)\n",
    "# li = ['P','y','t','h','o','n']\n",
    "# print(li)\n",
    "# print(li[3])\n",
    "\n",
    "# array = \"Python\"\n",
    "# for i in range(6):\n",
    "#     print(array[i])\n",
    "\n",
    "sn = \"971113-1013921\"\n",
    "\n",
    "if sn[7] == \"1\" :\n",
    "    print(\"남자\")\n",
    "else :\n",
    "    print(\"여자\")\n",
    "\n",
    "sn = '971113-1013721'\n",
    "#스플릿 활용\n",
    "sn = sn.split('-')\n",
    "print(sn)\n",
    "print(sn[0])\n",
    "print(sn[1])\n",
    "print(sn[1][0])\n",
    "if sn[1][0] == '1' or sn[1][0] == '3':\n",
    "    print('Male')\n",
    "else:\n",
    "    print('Female')\n",
    "\n"
   ]
  },
  {
   "cell_type": "code",
   "execution_count": 52,
   "metadata": {},
   "outputs": [
    {
     "name": "stdout",
     "output_type": "stream",
     "text": [
      "ㅇㅇ의 생일은 11월 13일\n"
     ]
    }
   ],
   "source": [
    "#슬라이싱(slicing)\n",
    "sn = \"971113-1013921\"\n",
    "#문자열[시작:끝]\n",
    "\n",
    "month = sn[2:4]\n",
    "day = sn[4:6]\n",
    "print(\"ㅇㅇ의 생일은 \" + month +\"월 \" + day +\"일\")\n"
   ]
  },
  {
   "cell_type": "code",
   "execution_count": 67,
   "metadata": {},
   "outputs": [
    {
     "name": "stdout",
     "output_type": "stream",
     "text": [
      "0.30000000000000004\n",
      "0.30000000000000004\n"
     ]
    }
   ],
   "source": [
    "# 실수\n",
    "print(round(0.1*3, 17))\n",
    "print(0.1*3)"
   ]
  },
  {
   "cell_type": "code",
   "execution_count": 75,
   "metadata": {},
   "outputs": [
    {
     "name": "stdout",
     "output_type": "stream",
     "text": [
      "짝수입니다\n"
     ]
    }
   ],
   "source": [
    "#짝수홀수판별\n",
    "#print(7%5)\n",
    "\n",
    "n=192\n",
    "if n%2 == 0 :\n",
    "    print(\"짝수입니다\")\n",
    "else :\n",
    "    print(\"홀수입니다\")\n",
    "\n"
   ]
  }
 ],
 "metadata": {
  "interpreter": {
   "hash": "8931d08a56ba8ec5bd4013e6d6c9066a90d099ecd0b9731835efa4c48cf46a24"
  },
  "kernelspec": {
   "display_name": "Python 3.10.1 64-bit",
   "language": "python",
   "name": "python3"
  },
  "language_info": {
   "codemirror_mode": {
    "name": "ipython",
    "version": 3
   },
   "file_extension": ".py",
   "mimetype": "text/x-python",
   "name": "python",
   "nbconvert_exporter": "python",
   "pygments_lexer": "ipython3",
   "version": "3.10.1"
  },
  "orig_nbformat": 4
 },
 "nbformat": 4,
 "nbformat_minor": 2
}
